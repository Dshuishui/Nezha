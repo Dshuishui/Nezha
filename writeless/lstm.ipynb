{
 "cells": [
  {
   "cell_type": "code",
   "execution_count": 2,
   "metadata": {},
   "outputs": [],
   "source": [
    "import torch\n",
    "from torch import nn\n",
    "from torch.utils.data import Dataset, DataLoader\n",
    "import pandas as pd\n",
    "import numpy as np"
   ]
  },
  {
   "cell_type": "code",
   "execution_count": 3,
   "metadata": {},
   "outputs": [],
   "source": [
    "# 定义超参数\n",
    "input_size = 2\n",
    "# 隐藏层大小，一般为输入特征的2~4倍\n",
    "hidden_size = 64\n",
    "# LSTM层数，较深的网络可能更能够捕捉序列中的长期依赖关系，但也会增加训练时间和计算成本。\n",
    "# 通常建议使用 1-3 层 LSTM，具体取决于数据集和问题复杂度。\n",
    "num_layers = 1\n",
    "output_size = 1\n",
    "batch_size = 32\n",
    "# 通常建议使用较小的学习率（例如 0.001）进行初始训练，然后根据模型在验证集上的性能进行微调。\n",
    "learning_rate = 0.002\n",
    "num_epochs = 10"
   ]
  },
  {
   "cell_type": "code",
   "execution_count": 4,
   "metadata": {},
   "outputs": [],
   "source": [
    "class MyDataset(Dataset):\n",
    "    def __init__(self, data_path, sequence_length):\n",
    "        self.data = pd.read_csv(data_path)\n",
    "        self.sequence_length = sequence_length\n",
    "        self.features = self.data.drop(['write_counts'], axis=1).values.astype(np.float32)\n",
    "        self.targets = self.data['write_counts'].values.astype(np.float32)\n",
    "    \n",
    "    def __len__(self):\n",
    "        return len(self.data) - self.sequence_length\n",
    "    \n",
    "    def __getitem__(self, idx):\n",
    "        start_idx = idx\n",
    "        end_idx = idx + self.sequence_length\n",
    "        x = self.features[start_idx:end_idx]\n",
    "        y = self.targets[end_idx]\n",
    "        return x, y"
   ]
  },
  {
   "cell_type": "code",
   "execution_count": 5,
   "metadata": {},
   "outputs": [],
   "source": [
    "\"\"\" \n",
    "一般情况下，LSTM 模型的输入应该是一个 3 维张量，其维度为 [batch_size, sequence_length, input_size]，\n",
    "分别表示批次大小、时间序列长度和输入维度。因此，在处理数据集时，需要将原始数据转换成这种形式。\n",
    "\"\"\"\n",
    "class MyLSTM(nn.Module):\n",
    "    def __init__(self, input_size, hidden_size, num_layers, output_size):\n",
    "        super(MyLSTM, self).__init__()\n",
    "        self.hidden_size = hidden_size\n",
    "        self.num_layers = num_layers\n",
    "        self.lstm = nn.LSTM(input_size, hidden_size, num_layers, batch_first=True)\n",
    "        self.fc = nn.Linear(hidden_size, output_size)\n",
    "        \n",
    "    def forward(self, x):\n",
    "        # 将输入的形状从 [batch_size * sequence_length, input_size] 转换为 [batch_size, sequence_length, input_size]\n",
    "        # batch_size = x.size(0) // self.num_layers\n",
    "        # x = x.view(batch_size, -1, self.lstm.input_size)\n",
    "\n",
    "        h0 = torch.zeros(self.num_layers, x.size(0), self.hidden_size).to(x.device)\n",
    "        c0 = torch.zeros(self.num_layers, x.size(0), self.hidden_size).to(x.device)\n",
    "        out, _ = self.lstm(x, (h0, c0))\n",
    "        out = out[:, -1, :]\n",
    "        out = self.fc(out)\n",
    "        return out"
   ]
  },
  {
   "cell_type": "code",
   "execution_count": 6,
   "metadata": {},
   "outputs": [],
   "source": [
    "# 训练集路径\n",
    "train_data_path = \"./dataset/btcusd_low.csv\"\n",
    "train_ratio = 0.8"
   ]
  },
  {
   "cell_type": "code",
   "execution_count": 25,
   "metadata": {},
   "outputs": [],
   "source": [
    "# 加载数据集\n",
    "dataset = MyDataset(train_data_path, sequence_length=32)\n",
    "train_size = int(len(dataset) * train_ratio)\n",
    "test_size = len(dataset) - train_size\n",
    "train_dataset, test_dataset = torch.utils.data.random_split(dataset, [train_size, test_size])\n",
    "\n",
    "# 加载数据并训练模型\n",
    "train_loader = DataLoader(train_dataset, batch_size=batch_size, shuffle=True)\n",
    "test_loader = DataLoader(test_dataset, batch_size=batch_size, shuffle=True)"
   ]
  },
  {
   "cell_type": "code",
   "execution_count": 26,
   "metadata": {},
   "outputs": [],
   "source": [
    "# 定义模型、损失函数和优化器\n",
    "device = torch.device('cuda' if torch.cuda.is_available() else 'cpu')\n",
    "model = MyLSTM(input_size, hidden_size, num_layers, output_size)\n",
    "criterion = nn.MSELoss()\n",
    "optimizer = torch.optim.Adam(model.parameters(), lr=learning_rate)"
   ]
  },
  {
   "cell_type": "code",
   "execution_count": 27,
   "metadata": {},
   "outputs": [
    {
     "name": "stdout",
     "output_type": "stream",
     "text": [
      "Epoch [1/10], Step [200/750], Loss: 21.6599\n",
      "Epoch [1/10], Step [400/750], Loss: 8.0286\n",
      "Epoch [1/10], Step [600/750], Loss: 6.1048\n"
     ]
    },
    {
     "name": "stderr",
     "output_type": "stream",
     "text": [
      "/home/jason/.local/lib/python3.8/site-packages/torch/nn/modules/loss.py:536: UserWarning: Using a target size (torch.Size([6])) that is different to the input size (torch.Size([6, 1])). This will likely lead to incorrect results due to broadcasting. Please ensure they have the same size.\n",
      "  return F.mse_loss(input, target, reduction=self.reduction)\n"
     ]
    },
    {
     "name": "stdout",
     "output_type": "stream",
     "text": [
      "Epoch [2/10], Step [200/750], Loss: 7.1138\n",
      "Epoch [2/10], Step [400/750], Loss: 5.8082\n",
      "Epoch [2/10], Step [600/750], Loss: 4.7360\n",
      "Epoch [3/10], Step [200/750], Loss: 5.5644\n",
      "Epoch [3/10], Step [400/750], Loss: 4.0381\n",
      "Epoch [3/10], Step [600/750], Loss: 4.1707\n",
      "Epoch [4/10], Step [200/750], Loss: 4.2916\n",
      "Epoch [4/10], Step [400/750], Loss: 5.1890\n",
      "Epoch [4/10], Step [600/750], Loss: 4.2256\n",
      "Epoch [5/10], Step [200/750], Loss: 3.7514\n",
      "Epoch [5/10], Step [400/750], Loss: 5.9409\n",
      "Epoch [5/10], Step [600/750], Loss: 5.3519\n",
      "Epoch [6/10], Step [200/750], Loss: 3.2567\n",
      "Epoch [6/10], Step [400/750], Loss: 4.0909\n",
      "Epoch [6/10], Step [600/750], Loss: 5.9065\n",
      "Epoch [7/10], Step [200/750], Loss: 4.3716\n",
      "Epoch [7/10], Step [400/750], Loss: 4.5430\n",
      "Epoch [7/10], Step [600/750], Loss: 4.5253\n",
      "Epoch [8/10], Step [200/750], Loss: 3.3472\n",
      "Epoch [8/10], Step [400/750], Loss: 5.8475\n",
      "Epoch [8/10], Step [600/750], Loss: 4.3181\n",
      "Epoch [9/10], Step [200/750], Loss: 7.0062\n",
      "Epoch [9/10], Step [400/750], Loss: 5.3414\n",
      "Epoch [9/10], Step [600/750], Loss: 4.6927\n",
      "Epoch [10/10], Step [200/750], Loss: 4.2438\n",
      "Epoch [10/10], Step [400/750], Loss: 3.5906\n",
      "Epoch [10/10], Step [600/750], Loss: 5.1028\n"
     ]
    }
   ],
   "source": [
    "for epoch in range(num_epochs):\n",
    "    for i, (inputs, targets) in enumerate(train_loader):\n",
    "        inputs = inputs.float()\n",
    "        targets = targets.float()\n",
    "        \n",
    "        # 前向传播\n",
    "        outputs = model(inputs)\n",
    "        loss = criterion(outputs, targets)\n",
    "        \n",
    "        # 反向传播和优化\n",
    "        optimizer.zero_grad()\n",
    "        loss.backward()\n",
    "        optimizer.step()\n",
    "        \n",
    "        if (i+1) % 200 == 0:\n",
    "            print('Epoch [{}/{}], Step [{}/{}], Loss: {:.4f}'\n",
    "                  .format(epoch+1, num_epochs, i+1, len(train_loader), loss.item()))"
   ]
  },
  {
   "cell_type": "code",
   "execution_count": 28,
   "metadata": {},
   "outputs": [
    {
     "name": "stdout",
     "output_type": "stream",
     "text": [
      "Accuracy of the model on the test dataset: 16.23 %\n"
     ]
    }
   ],
   "source": [
    "model.eval()\n",
    "with torch.no_grad():\n",
    "    correct = 0\n",
    "    total = 0\n",
    "    for inputs, targets in test_loader:\n",
    "        inputs = inputs.float()\n",
    "        targets = targets.float()\n",
    "\n",
    "        outputs = model(inputs)\n",
    "        predicted = torch.squeeze(torch.round(outputs))\n",
    "        total += targets.size(0)\n",
    "        temp = predicted == targets\n",
    "        correct += temp.sum().item()\n",
    "\n",
    "    accuracy = 100 * correct / total\n",
    "    print('Accuracy of the model on the test dataset: {:.2f} %'.format(accuracy))"
   ]
  },
  {
   "cell_type": "code",
   "execution_count": 44,
   "metadata": {},
   "outputs": [
    {
     "name": "stdout",
     "output_type": "stream",
     "text": [
      "      read_time  write_counts   period\n",
      "0  1.364778e+12           6.0      0.0\n",
      "1  1.364780e+12           5.0   2580.0\n",
      "2  1.364785e+12           3.0   4560.0\n",
      "3  1.364797e+12           5.0  12660.0\n",
      "4  1.364811e+12           6.0  13320.0\n"
     ]
    }
   ],
   "source": [
    "print(train_dataset.dataset.data.head())\n"
   ]
  },
  {
   "cell_type": "code",
   "execution_count": 49,
   "metadata": {},
   "outputs": [
    {
     "data": {
      "image/png": "[encoded data removed]",
      "text/plain": [
       "<Figure size 640x480 with 1 Axes>"
      ]
     },
     "metadata": {},
     "output_type": "display_data"
    }
   ],
   "source": []
  },
  {
   "cell_type": "code",
   "execution_count": null,
   "metadata": {},
   "outputs": [],
   "source": []
  },
  {
   "cell_type": "code",
   "execution_count": null,
   "metadata": {},
   "outputs": [],
   "source": []
  }
 ],
 "metadata": {
  "kernelspec": {
   "display_name": "Python 3.8.10 64-bit",
   "language": "python",
   "name": "python3"
  },
  "language_info": {
   "codemirror_mode": {
    "name": "ipython",
    "version": 3
   },
   "file_extension": ".py",
   "mimetype": "text/x-python",
   "name": "python",
   "nbconvert_exporter": "python",
   "pygments_lexer": "ipython3",
   "version": "3.8.10"
  },
  "orig_nbformat": 4,
  "vscode": {
   "interpreter": {
    "hash": "916dbcbb3f70747c44a77c7bcd40155683ae19c65e1c03b4aa3499c5328201f1"
   }
  }
 },
 "nbformat": 4,
 "nbformat_minor": 2
}
